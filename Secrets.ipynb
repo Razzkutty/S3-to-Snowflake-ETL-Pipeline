{
 "cells": [
  {
   "cell_type": "markdown",
   "metadata": {
    "application/vnd.databricks.v1+cell": {
     "cellMetadata": {
      "byteLimit": 2048000,
      "rowLimit": 10000
     },
     "inputWidgets": {},
     "nuid": "ddd041e4-981b-4c54-a350-637032f56f62",
     "showTitle": false,
     "title": ""
    }
   },
   "source": [
    "#### Secrets Notebook: \n",
    "- This Notebooks contains the required credentials for accessing various services"
   ]
  },
  {
   "cell_type": "code",
   "execution_count": 0,
   "metadata": {
    "application/vnd.databricks.v1+cell": {
     "cellMetadata": {},
     "inputWidgets": {},
     "nuid": "256452a2-3ea4-4437-a74d-4f521d51f99e",
     "showTitle": false,
     "title": ""
    }
   },
   "outputs": [],
   "source": [
    "### Set the environement variables\n",
    "os.environ[\"AWS_ACCESS_KEY_ID\"] = \"YOUR_AWS_ACCESS_KEY_ID\"\n",
    "os.environ[\"AWS_SECRET_ACCESS_KEY\"] = \"YOUR_AWS_SECRET_ACCESS_KEY\"\n",
    "os.environ[\"AWS_DEFAULT_REGION\"] = \"YOUR_REGION\"\n",
    "\n",
    "os.environ[\"HOST\"] = \"your-db-instance.your-region.rds.amazonaws.com\"  # RDS endpoint\n",
    "os.environ[\"PORT\"] = \"5432\"  # PostgreSQL default port\n",
    "os.environ[\"DBASE\"] = \"your_database_name\"\n",
    "os.environ[\"USER\"] = \"your_db_username\"\n",
    "os.environ[\"PASSWORD\"] = \"you_password\"\n",
    "\n",
    "os.environ[\"END_POINT\"] = \"jdbc:postgresql://RDS_HOST_URL/database-instance\"\n",
    "\n",
    "# Set AWS credentials for Spark S3 access\n",
    "spark.conf.set(\"fs.s3a.access.key\", \"YOUR_AWS_ACCESS_KEY_ID\")\n",
    "spark.conf.set(\"fs.s3a.secret.key\", \"YOUR_AWS_SECRET_ACCESS_KEY\")\n",
    "\n",
    "# Set Snowflake credentials as environment variables\n",
    "os.environ[\"sfURL\"] = \"your_account.snowflakecomputing.com\"\n",
    "os.environ[\"sfUser\"] = \"your_username\"\n",
    "os.environ[\"sfPassword\"] = \"your_password\"\n",
    "os.environ[\"sfDatabase\"] = \"your_database_name\"\n",
    "os.environ[\"sfSchema\"] = \"your_schema_name\"\n",
    "os.environ[\"sfWarehouse\"] = \"your_warehouse_name\"\n",
    "\n",
    "\n",
    "def sfCredentials():\n",
    "    # Credentials for Snowflake\n",
    "    return {\n",
    "        \"sfURL\": os.getenv(\"sfURL\"),\n",
    "        \"sfUser\": os.getenv(\"sfUser\"),\n",
    "        \"sfPassword\": os.getenv(\"sfPassword\"),\n",
    "        \"sfDatabase\": os.getenv(\"sfDatabase\"),\n",
    "        \"sfSchema\": os.getenv(\"sfSchema\"),\n",
    "        \"sfWarehouse\": os.getenv(\"sfWarehouse\"),\n",
    "    }"
   ]
  }
 ],
 "metadata": {
  "application/vnd.databricks.v1+notebook": {
   "dashboards": [],
   "environmentMetadata": null,
   "language": "python",
   "notebookMetadata": {
    "pythonIndentUnit": 4
   },
   "notebookName": "Secrets",
   "widgets": {}
  }
 },
 "nbformat": 4,
 "nbformat_minor": 0
}
